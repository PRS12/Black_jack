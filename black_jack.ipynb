{
 "cells": [
  {
   "cell_type": "code",
   "execution_count": 4,
   "metadata": {},
   "outputs": [],
   "source": [
    "\n",
    "# IMPORTANT NOTE: Before running the script, please set up the images_url to the\n",
    "# local folder where pictures are located.\n",
    "\n",
    "\n",
    "import random\n",
    "import easygui\n",
    "\n",
    "global double_down\n",
    "double_down = False\n",
    "\n",
    "################################################################################\n",
    "#SET UP : Set the path to the local folder where pictures are located before\n",
    "#running the script\n",
    "images_url = \"D:\\\\users\\\\folder_1\\\\\"\n",
    "################################################################################\n",
    "\n",
    "# A 52 cards deck for blackjack\n",
    "deck = [\"A\",\"A\",\"A\",\"A\",10,10,10,10,10,10,10,10,10,10,10,10,10,10,10,10,9,9,9,9,8,8,8,8,7,7,7,7,6,6,6,6,5,5,5,5,4,4,4,4,3,3,3,3,2,2,2,2]"
   ]
  },
  {
   "cell_type": "code",
   "execution_count": null,
   "metadata": {
    "collapsed": true
   },
   "outputs": [],
   "source": []
  }
 ],
 "metadata": {
  "kernelspec": {
   "display_name": "Python 3",
   "language": "python",
   "name": "python3"
  },
  "language_info": {
   "codemirror_mode": {
    "name": "ipython",
    "version": 3
   },
   "file_extension": ".py",
   "mimetype": "text/x-python",
   "name": "python",
   "nbconvert_exporter": "python",
   "pygments_lexer": "ipython3",
   "version": "3.6.3"
  }
 },
 "nbformat": 4,
 "nbformat_minor": 2
}
